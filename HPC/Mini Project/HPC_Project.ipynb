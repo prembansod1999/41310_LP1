{
  "nbformat": 4,
  "nbformat_minor": 0,
  "metadata": {
    "colab": {
      "name": "HPC_Project.ipynb",
      "provenance": [],
      "collapsed_sections": []
    },
    "kernelspec": {
      "name": "python3",
      "display_name": "Python 3"
    },
    "accelerator": "GPU"
  },
  "cells": [
    {
      "cell_type": "code",
      "metadata": {
        "colab": {
          "base_uri": "https://localhost:8080/",
          "height": 0
        },
        "id": "IWyW5ZCvcsHi",
        "outputId": "a5af64b7-fa38-4a9c-8796-2b1871d23cba"
      },
      "source": [
        "!nvcc --version\n",
        "!pip install git+git://github.com/andreinechaev/nvcc4jupyter.git\n",
        "%load_ext nvcc_plugin\n",
        "\n"
      ],
      "execution_count": 2,
      "outputs": [
        {
          "output_type": "stream",
          "text": [
            "nvcc: NVIDIA (R) Cuda compiler driver\n",
            "Copyright (c) 2005-2019 NVIDIA Corporation\n",
            "Built on Sun_Jul_28_19:07:16_PDT_2019\n",
            "Cuda compilation tools, release 10.1, V10.1.243\n",
            "Collecting git+git://github.com/andreinechaev/nvcc4jupyter.git\n",
            "  Cloning git://github.com/andreinechaev/nvcc4jupyter.git to /tmp/pip-req-build-keyi1fca\n",
            "  Running command git clone -q git://github.com/andreinechaev/nvcc4jupyter.git /tmp/pip-req-build-keyi1fca\n",
            "Building wheels for collected packages: NVCCPlugin\n",
            "  Building wheel for NVCCPlugin (setup.py) ... \u001b[?25l\u001b[?25hdone\n",
            "  Created wheel for NVCCPlugin: filename=NVCCPlugin-0.0.2-cp36-none-any.whl size=4307 sha256=89e84f5e0c37efe2698c2db7298a4a3d60cafb851041a09c83aad5ae9b6b5667\n",
            "  Stored in directory: /tmp/pip-ephem-wheel-cache-fyn5heze/wheels/10/c2/05/ca241da37bff77d60d31a9174f988109c61ba989e4d4650516\n",
            "Successfully built NVCCPlugin\n",
            "Installing collected packages: NVCCPlugin\n",
            "Successfully installed NVCCPlugin-0.0.2\n",
            "created output directory at /content/src\n",
            "Out bin /content/result.out\n"
          ],
          "name": "stdout"
        }
      ]
    },
    {
      "cell_type": "code",
      "metadata": {
        "colab": {
          "base_uri": "https://localhost:8080/",
          "height": 0
        },
        "id": "w54cit0Yc0Ve",
        "outputId": "6ee9c5b5-5adf-4f88-c2da-e7130598f4a9"
      },
      "source": [
        "%%cu\n",
        "#include <iostream>\n",
        "#include <cstdio>\n",
        "#include <string>\n",
        "#define TOGG(k) ( ( ( (k) & 1 ) << 5 ) )\n",
        "#define RAN(charac) ( 65 + ( charac % 26 ) + TOGG ( charac ) ) \n",
        "using namespace std;\n",
        "\n",
        "__global__ \n",
        "void RunLengthEncodingComputation (char *orig, int *_encoXst, int n) {\n",
        "    int index = ( (blockIdx.x * blockDim.x) + threadIdx.x );\n",
        "    index <<= 7;\n",
        "\n",
        "    if(orig[index] == orig[index-1]) \n",
        "        while(index < n && orig[index] == orig[index-1])\n",
        "            ++index;\n",
        "    \n",
        "    for (int i = index; i < fminf(index + 128, n); )\n",
        "    {\n",
        "        char temp = orig[i];\n",
        "        int t_ = i;\n",
        "        while (i < n && temp == orig[i])\n",
        "            ++i;\n",
        "        _encoXst[t_] = i;\n",
        "    }\n",
        "}\n",
        "\n",
        "int main()  {\n",
        "    int n=1000;\n",
        "    char s[1000];\n",
        "    fscanf(fopen(\"input.txt\", \"r\"), \"%s\", s);\n",
        "    char *cudas;\n",
        "    int *_encoXst, *_inter = new int[n];\n",
        "\n",
        "    int threads = (1 << 7);\n",
        "    int blocks = ( ( n>>14 ) + ( ( n & ( (1<<14)-1 ) ) != 0 )  );\n",
        "\n",
        "    cout << threads << \" : \" << blocks << endl;\n",
        "\n",
        "    cudaMalloc (&cudas, n*sizeof(char));\n",
        "    cudaMalloc (&cudas, n*sizeof(char));\n",
        "    cudaMalloc (&_encoXst, n*sizeof(int));\n",
        "\n",
        "    cudaMemcpy (cudas, s, n*sizeof(char), cudaMemcpyHostToDevice);\n",
        "\n",
        "    RunLengthEncodingComputation <<<blocks, threads>>> (cudas, _encoXst, n);\n",
        "    cudaDeviceSynchronize();\n",
        "    cudaMemcpy(_inter, _encoXst, n*sizeof(int), cudaMemcpyDeviceToHost);\n",
        "\n",
        "    string ans;\n",
        "    int sum = 0;\n",
        "    for(int i = 0; i < n; i = _inter[i]) {\n",
        "        ans += s[i] + to_string(_inter[i]-i);\n",
        "        sum += _inter[i]-i;\n",
        "    }\n",
        "    // cout << ans << endl;\n",
        "    fprintf(fopen(\"output.txt\", \"w\"), \"%s\", ans.c_str());\n",
        "    int length_ans = ans.length();\n",
        "    printf(\"Length: %d\\nCompressed Length: %d\\nCompression Achievement: %f\\n\", sum, length_ans, (float)(sum+length_ans-1)/(length_ans));\n",
        "}"
      ],
      "execution_count": 13,
      "outputs": [
        {
          "output_type": "stream",
          "text": [
            "128 : 1\n",
            "Length: 1000\n",
            "Compressed Length: 785\n",
            "Compression Achievement: 2.272611\n",
            "\n"
          ],
          "name": "stdout"
        }
      ]
    },
    {
      "cell_type": "code",
      "metadata": {
        "id": "rKU1E7hedNX8"
      },
      "source": [
        ""
      ],
      "execution_count": 8,
      "outputs": []
    },
    {
      "cell_type": "code",
      "metadata": {
        "id": "CcS-atql6Uz5"
      },
      "source": [
        ""
      ],
      "execution_count": null,
      "outputs": []
    }
  ]
}