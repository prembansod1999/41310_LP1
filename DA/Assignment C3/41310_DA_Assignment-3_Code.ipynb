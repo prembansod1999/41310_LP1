{
 "cells": [
  {
   "cell_type": "code",
   "execution_count": 42,
   "metadata": {},
   "outputs": [],
   "source": [
    "import math\n",
    "import pandas as pd\n",
    "import numpy as np\n",
    "from sklearn.linear_model import LinearRegression\n",
    "from sklearn.model_selection import train_test_split\n",
    "from sklearn.preprocessing import PolynomialFeatures\n",
    "import matplotlib.pyplot as plt\n",
    "from sklearn.ensemble import GradientBoostingRegressor, RandomForestRegressor\n",
    "from xgboost import XGBRegressor\n",
    "from sklearn.tree import DecisionTreeRegressor\n",
    "from sklearn.neighbors import KNeighborsRegressor\n",
    "from sklearn.svm import SVR\n",
    "from sklearn.pipeline import make_pipeline\n",
    "from sklearn.preprocessing import StandardScaler\n",
    "from sklearn.metrics import mean_squared_error, mean_absolute_error, r2_score"
   ]
  },
  {
   "cell_type": "code",
   "execution_count": 43,
   "metadata": {},
   "outputs": [],
   "source": [
    "train = pd.read_csv(\"./Train.csv\")\n",
    "test = pd.read_csv(\"./Test.csv\")"
   ]
  },
  {
   "cell_type": "code",
   "execution_count": 44,
   "metadata": {},
   "outputs": [
    {
     "data": {
      "text/html": [
       "<div>\n",
       "<style scoped>\n",
       "    .dataframe tbody tr th:only-of-type {\n",
       "        vertical-align: middle;\n",
       "    }\n",
       "\n",
       "    .dataframe tbody tr th {\n",
       "        vertical-align: top;\n",
       "    }\n",
       "\n",
       "    .dataframe thead th {\n",
       "        text-align: right;\n",
       "    }\n",
       "</style>\n",
       "<table border=\"1\" class=\"dataframe\">\n",
       "  <thead>\n",
       "    <tr style=\"text-align: right;\">\n",
       "      <th></th>\n",
       "      <th>Item_Identifier</th>\n",
       "      <th>Item_Weight</th>\n",
       "      <th>Item_Fat_Content</th>\n",
       "      <th>Item_Visibility</th>\n",
       "      <th>Item_Type</th>\n",
       "      <th>Item_MRP</th>\n",
       "      <th>Outlet_Identifier</th>\n",
       "      <th>Outlet_Establishment_Year</th>\n",
       "      <th>Outlet_Size</th>\n",
       "      <th>Outlet_Location_Type</th>\n",
       "      <th>Outlet_Type</th>\n",
       "      <th>Item_Outlet_Sales</th>\n",
       "    </tr>\n",
       "  </thead>\n",
       "  <tbody>\n",
       "    <tr>\n",
       "      <td>0</td>\n",
       "      <td>FDA15</td>\n",
       "      <td>9.30</td>\n",
       "      <td>Low Fat</td>\n",
       "      <td>0.016047</td>\n",
       "      <td>Dairy</td>\n",
       "      <td>249.8092</td>\n",
       "      <td>OUT049</td>\n",
       "      <td>1999</td>\n",
       "      <td>Medium</td>\n",
       "      <td>Tier 1</td>\n",
       "      <td>Supermarket Type1</td>\n",
       "      <td>3735.1380</td>\n",
       "    </tr>\n",
       "    <tr>\n",
       "      <td>1</td>\n",
       "      <td>DRC01</td>\n",
       "      <td>5.92</td>\n",
       "      <td>Regular</td>\n",
       "      <td>0.019278</td>\n",
       "      <td>Soft Drinks</td>\n",
       "      <td>48.2692</td>\n",
       "      <td>OUT018</td>\n",
       "      <td>2009</td>\n",
       "      <td>Medium</td>\n",
       "      <td>Tier 3</td>\n",
       "      <td>Supermarket Type2</td>\n",
       "      <td>443.4228</td>\n",
       "    </tr>\n",
       "    <tr>\n",
       "      <td>2</td>\n",
       "      <td>FDN15</td>\n",
       "      <td>17.50</td>\n",
       "      <td>Low Fat</td>\n",
       "      <td>0.016760</td>\n",
       "      <td>Meat</td>\n",
       "      <td>141.6180</td>\n",
       "      <td>OUT049</td>\n",
       "      <td>1999</td>\n",
       "      <td>Medium</td>\n",
       "      <td>Tier 1</td>\n",
       "      <td>Supermarket Type1</td>\n",
       "      <td>2097.2700</td>\n",
       "    </tr>\n",
       "    <tr>\n",
       "      <td>3</td>\n",
       "      <td>FDX07</td>\n",
       "      <td>19.20</td>\n",
       "      <td>Regular</td>\n",
       "      <td>0.000000</td>\n",
       "      <td>Fruits and Vegetables</td>\n",
       "      <td>182.0950</td>\n",
       "      <td>OUT010</td>\n",
       "      <td>1998</td>\n",
       "      <td>NaN</td>\n",
       "      <td>Tier 3</td>\n",
       "      <td>Grocery Store</td>\n",
       "      <td>732.3800</td>\n",
       "    </tr>\n",
       "    <tr>\n",
       "      <td>4</td>\n",
       "      <td>NCD19</td>\n",
       "      <td>8.93</td>\n",
       "      <td>Low Fat</td>\n",
       "      <td>0.000000</td>\n",
       "      <td>Household</td>\n",
       "      <td>53.8614</td>\n",
       "      <td>OUT013</td>\n",
       "      <td>1987</td>\n",
       "      <td>High</td>\n",
       "      <td>Tier 3</td>\n",
       "      <td>Supermarket Type1</td>\n",
       "      <td>994.7052</td>\n",
       "    </tr>\n",
       "  </tbody>\n",
       "</table>\n",
       "</div>"
      ],
      "text/plain": [
       "  Item_Identifier  Item_Weight Item_Fat_Content  Item_Visibility  \\\n",
       "0           FDA15         9.30          Low Fat         0.016047   \n",
       "1           DRC01         5.92          Regular         0.019278   \n",
       "2           FDN15        17.50          Low Fat         0.016760   \n",
       "3           FDX07        19.20          Regular         0.000000   \n",
       "4           NCD19         8.93          Low Fat         0.000000   \n",
       "\n",
       "               Item_Type  Item_MRP Outlet_Identifier  \\\n",
       "0                  Dairy  249.8092            OUT049   \n",
       "1            Soft Drinks   48.2692            OUT018   \n",
       "2                   Meat  141.6180            OUT049   \n",
       "3  Fruits and Vegetables  182.0950            OUT010   \n",
       "4              Household   53.8614            OUT013   \n",
       "\n",
       "   Outlet_Establishment_Year Outlet_Size Outlet_Location_Type  \\\n",
       "0                       1999      Medium               Tier 1   \n",
       "1                       2009      Medium               Tier 3   \n",
       "2                       1999      Medium               Tier 1   \n",
       "3                       1998         NaN               Tier 3   \n",
       "4                       1987        High               Tier 3   \n",
       "\n",
       "         Outlet_Type  Item_Outlet_Sales  \n",
       "0  Supermarket Type1          3735.1380  \n",
       "1  Supermarket Type2           443.4228  \n",
       "2  Supermarket Type1          2097.2700  \n",
       "3      Grocery Store           732.3800  \n",
       "4  Supermarket Type1           994.7052  "
      ]
     },
     "execution_count": 44,
     "metadata": {},
     "output_type": "execute_result"
    }
   ],
   "source": [
    "train.head()\n"
   ]
  },
  {
   "cell_type": "code",
   "execution_count": 45,
   "metadata": {},
   "outputs": [
    {
     "name": "stdout",
     "output_type": "stream",
     "text": [
      "<class 'pandas.core.frame.DataFrame'>\n",
      "RangeIndex: 8523 entries, 0 to 8522\n",
      "Data columns (total 12 columns):\n",
      "Item_Identifier              8523 non-null object\n",
      "Item_Weight                  7060 non-null float64\n",
      "Item_Fat_Content             8523 non-null object\n",
      "Item_Visibility              8523 non-null float64\n",
      "Item_Type                    8523 non-null object\n",
      "Item_MRP                     8523 non-null float64\n",
      "Outlet_Identifier            8523 non-null object\n",
      "Outlet_Establishment_Year    8523 non-null int64\n",
      "Outlet_Size                  6113 non-null object\n",
      "Outlet_Location_Type         8523 non-null object\n",
      "Outlet_Type                  8523 non-null object\n",
      "Item_Outlet_Sales            8523 non-null float64\n",
      "dtypes: float64(4), int64(1), object(7)\n",
      "memory usage: 799.2+ KB\n"
     ]
    }
   ],
   "source": [
    "train.info()\n"
   ]
  },
  {
   "cell_type": "code",
   "execution_count": 46,
   "metadata": {},
   "outputs": [
    {
     "data": {
      "text/plain": [
       "array(['Low Fat', 'Regular', 'low fat', 'LF', 'reg'], dtype=object)"
      ]
     },
     "execution_count": 46,
     "metadata": {},
     "output_type": "execute_result"
    }
   ],
   "source": [
    "train['Item_Fat_Content'].unique()\n"
   ]
  },
  {
   "cell_type": "code",
   "execution_count": 47,
   "metadata": {},
   "outputs": [],
   "source": [
    "# Correcting mislabeleld columns\n",
    "train['Item_Fat_Content'].replace(to_replace='low fat', value='Low Fat', inplace=True)\n",
    "train['Item_Fat_Content'].replace(to_replace='LF', value='Low Fat', inplace=True)\n",
    "train['Item_Fat_Content'].replace(to_replace='reg', value='Regular', inplace=True)\n",
    "test['Item_Fat_Content'].replace(to_replace='low fat', value='Low Fat', inplace=True)\n",
    "test['Item_Fat_Content'].replace(to_replace='LF', value='Low Fat', inplace=True)\n",
    "test['Item_Fat_Content'].replace(to_replace='reg', value='Regular', inplace=True)\n"
   ]
  },
  {
   "cell_type": "code",
   "execution_count": 48,
   "metadata": {},
   "outputs": [],
   "source": [
    "# Factorising categorical columns in the dataset\n",
    "col_enc = ['Item_Identifier', 'Item_Fat_Content', 'Item_Type', 'Outlet_Identifier', 'Outlet_Establishment_Year', 'Outlet_Location_Type', 'Outlet_Type']\n",
    "for x in col_enc:\n",
    "    train[x], _ = pd.factorize(train[x])\n",
    "    test[x], _ = pd.factorize(test[x])\n"
   ]
  },
  {
   "cell_type": "code",
   "execution_count": 49,
   "metadata": {},
   "outputs": [
    {
     "data": {
      "text/html": [
       "<div>\n",
       "<style scoped>\n",
       "    .dataframe tbody tr th:only-of-type {\n",
       "        vertical-align: middle;\n",
       "    }\n",
       "\n",
       "    .dataframe tbody tr th {\n",
       "        vertical-align: top;\n",
       "    }\n",
       "\n",
       "    .dataframe thead th {\n",
       "        text-align: right;\n",
       "    }\n",
       "</style>\n",
       "<table border=\"1\" class=\"dataframe\">\n",
       "  <thead>\n",
       "    <tr style=\"text-align: right;\">\n",
       "      <th></th>\n",
       "      <th>Item_Identifier</th>\n",
       "      <th>Item_Weight</th>\n",
       "      <th>Item_Fat_Content</th>\n",
       "      <th>Item_Visibility</th>\n",
       "      <th>Item_Type</th>\n",
       "      <th>Item_MRP</th>\n",
       "      <th>Outlet_Identifier</th>\n",
       "      <th>Outlet_Establishment_Year</th>\n",
       "      <th>Outlet_Size</th>\n",
       "      <th>Outlet_Location_Type</th>\n",
       "      <th>Outlet_Type</th>\n",
       "    </tr>\n",
       "  </thead>\n",
       "  <tbody>\n",
       "    <tr>\n",
       "      <td>0</td>\n",
       "      <td>0</td>\n",
       "      <td>20.750</td>\n",
       "      <td>0</td>\n",
       "      <td>0.007565</td>\n",
       "      <td>0</td>\n",
       "      <td>107.8622</td>\n",
       "      <td>0</td>\n",
       "      <td>0</td>\n",
       "      <td>Medium</td>\n",
       "      <td>0</td>\n",
       "      <td>0</td>\n",
       "    </tr>\n",
       "    <tr>\n",
       "      <td>1</td>\n",
       "      <td>1</td>\n",
       "      <td>8.300</td>\n",
       "      <td>1</td>\n",
       "      <td>0.038428</td>\n",
       "      <td>1</td>\n",
       "      <td>87.3198</td>\n",
       "      <td>1</td>\n",
       "      <td>1</td>\n",
       "      <td>NaN</td>\n",
       "      <td>1</td>\n",
       "      <td>0</td>\n",
       "    </tr>\n",
       "    <tr>\n",
       "      <td>2</td>\n",
       "      <td>2</td>\n",
       "      <td>14.600</td>\n",
       "      <td>0</td>\n",
       "      <td>0.099575</td>\n",
       "      <td>2</td>\n",
       "      <td>241.7538</td>\n",
       "      <td>2</td>\n",
       "      <td>2</td>\n",
       "      <td>NaN</td>\n",
       "      <td>2</td>\n",
       "      <td>1</td>\n",
       "    </tr>\n",
       "    <tr>\n",
       "      <td>3</td>\n",
       "      <td>3</td>\n",
       "      <td>7.315</td>\n",
       "      <td>0</td>\n",
       "      <td>0.015388</td>\n",
       "      <td>0</td>\n",
       "      <td>155.0340</td>\n",
       "      <td>1</td>\n",
       "      <td>1</td>\n",
       "      <td>NaN</td>\n",
       "      <td>1</td>\n",
       "      <td>0</td>\n",
       "    </tr>\n",
       "    <tr>\n",
       "      <td>4</td>\n",
       "      <td>4</td>\n",
       "      <td>NaN</td>\n",
       "      <td>1</td>\n",
       "      <td>0.118599</td>\n",
       "      <td>1</td>\n",
       "      <td>234.2300</td>\n",
       "      <td>3</td>\n",
       "      <td>3</td>\n",
       "      <td>Medium</td>\n",
       "      <td>2</td>\n",
       "      <td>2</td>\n",
       "    </tr>\n",
       "  </tbody>\n",
       "</table>\n",
       "</div>"
      ],
      "text/plain": [
       "   Item_Identifier  Item_Weight  Item_Fat_Content  Item_Visibility  Item_Type  \\\n",
       "0                0       20.750                 0         0.007565          0   \n",
       "1                1        8.300                 1         0.038428          1   \n",
       "2                2       14.600                 0         0.099575          2   \n",
       "3                3        7.315                 0         0.015388          0   \n",
       "4                4          NaN                 1         0.118599          1   \n",
       "\n",
       "   Item_MRP  Outlet_Identifier  Outlet_Establishment_Year Outlet_Size  \\\n",
       "0  107.8622                  0                          0      Medium   \n",
       "1   87.3198                  1                          1         NaN   \n",
       "2  241.7538                  2                          2         NaN   \n",
       "3  155.0340                  1                          1         NaN   \n",
       "4  234.2300                  3                          3      Medium   \n",
       "\n",
       "   Outlet_Location_Type  Outlet_Type  \n",
       "0                     0            0  \n",
       "1                     1            0  \n",
       "2                     2            1  \n",
       "3                     1            0  \n",
       "4                     2            2  "
      ]
     },
     "execution_count": 49,
     "metadata": {},
     "output_type": "execute_result"
    }
   ],
   "source": [
    "test.head()"
   ]
  },
  {
   "cell_type": "code",
   "execution_count": 50,
   "metadata": {},
   "outputs": [
    {
     "data": {
      "text/plain": [
       "Item_Identifier                 0\n",
       "Item_Weight                   976\n",
       "Item_Fat_Content                0\n",
       "Item_Visibility                 0\n",
       "Item_Type                       0\n",
       "Item_MRP                        0\n",
       "Outlet_Identifier               0\n",
       "Outlet_Establishment_Year       0\n",
       "Outlet_Size                  1606\n",
       "Outlet_Location_Type            0\n",
       "Outlet_Type                     0\n",
       "dtype: int64"
      ]
     },
     "execution_count": 50,
     "metadata": {},
     "output_type": "execute_result"
    }
   ],
   "source": [
    "test.isnull().sum()\n"
   ]
  },
  {
   "cell_type": "code",
   "execution_count": 51,
   "metadata": {},
   "outputs": [
    {
     "name": "stdout",
     "output_type": "stream",
     "text": [
      "      Item_Identifier  Item_Weight  Item_Fat_Content  Item_Visibility  \\\n",
      "0                   0        9.300                 0         0.016047   \n",
      "1                   1        5.920                 1         0.019278   \n",
      "2                   2       17.500                 0         0.016760   \n",
      "3                   3       19.200                 1         0.000000   \n",
      "4                   4        8.930                 0         0.000000   \n",
      "...               ...          ...               ...              ...   \n",
      "8518              359        6.865                 0         0.056783   \n",
      "8519             1537        8.380                 1         0.046982   \n",
      "8520              354       10.600                 0         0.035186   \n",
      "8521              908        7.210                 1         0.145221   \n",
      "8522              462       14.800                 0         0.044878   \n",
      "\n",
      "      Item_Type  Item_MRP  Outlet_Identifier  Outlet_Establishment_Year  \\\n",
      "0             0  249.8092                  0                          0   \n",
      "1             1   48.2692                  1                          1   \n",
      "2             2  141.6180                  0                          0   \n",
      "3             3  182.0950                  2                          2   \n",
      "4             4   53.8614                  3                          3   \n",
      "...         ...       ...                ...                        ...   \n",
      "8518          6  214.5218                  3                          3   \n",
      "8519          5  108.1570                  5                          5   \n",
      "8520          9   85.1224                  8                          8   \n",
      "8521          6  103.1332                  1                          1   \n",
      "8522          1   75.4670                  7                          7   \n",
      "\n",
      "      Outlet_Location_Type  Outlet_Type  Item_Outlet_Sales  \n",
      "0                        0            0          3735.1380  \n",
      "1                        1            1           443.4228  \n",
      "2                        0            0          2097.2700  \n",
      "3                        1            2           732.3800  \n",
      "4                        1            0           994.7052  \n",
      "...                    ...          ...                ...  \n",
      "8518                     1            0          2778.3834  \n",
      "8519                     2            0           549.2850  \n",
      "8520                     2            0          1193.1136  \n",
      "8521                     1            1          1845.5976  \n",
      "8522                     0            0           765.6700  \n",
      "\n",
      "[8523 rows x 11 columns]\n",
      "      Item_Identifier  Item_Weight  Item_Fat_Content  Item_Visibility  \\\n",
      "7                   7          NaN                 0         0.127470   \n",
      "18                 17          NaN                 0         0.034238   \n",
      "21                 20          NaN                 1         0.035400   \n",
      "23                 22          NaN                 0         0.057557   \n",
      "29                 28          NaN                 1         0.072222   \n",
      "...               ...          ...               ...              ...   \n",
      "8485              504          NaN                 0         0.043792   \n",
      "8487             1367          NaN                 0         0.037006   \n",
      "8488              716          NaN                 0         0.091473   \n",
      "8490              220          NaN                 1         0.102296   \n",
      "8504              448          NaN                 0         0.124111   \n",
      "\n",
      "      Item_Type  Item_MRP  Outlet_Identifier  Outlet_Establishment_Year  \\\n",
      "7             6  107.7622                  4                          4   \n",
      "18           10  113.2834                  4                          4   \n",
      "21            5  144.5444                  4                          4   \n",
      "23            5  107.6938                  9                          4   \n",
      "29           11   43.6454                  9                          4   \n",
      "...         ...       ...                ...                        ...   \n",
      "8485          1  189.0530                  4                          4   \n",
      "8487          1  164.7526                  4                          4   \n",
      "8488         14  184.6608                  4                          4   \n",
      "8490          3  162.3552                  9                          4   \n",
      "8504          4  111.7544                  4                          4   \n",
      "\n",
      "      Outlet_Location_Type  Outlet_Type  Item_Outlet_Sales  \n",
      "7                        1            3          4022.7636  \n",
      "18                       1            3          2303.6680  \n",
      "21                       1            3          4064.0432  \n",
      "23                       0            2           214.3876  \n",
      "29                       0            2           125.8362  \n",
      "...                    ...          ...                ...  \n",
      "8485                     1            3          6261.8490  \n",
      "8487                     1            3          4111.3150  \n",
      "8488                     1            3          2756.4120  \n",
      "8490                     0            2           487.3656  \n",
      "8504                     1            3          4138.6128  \n",
      "\n",
      "[1463 rows x 11 columns]\n",
      "      Item_Identifier  Item_Weight  Item_Fat_Content  Item_Visibility  \\\n",
      "0                   0        9.300                 0         0.016047   \n",
      "1                   1        5.920                 1         0.019278   \n",
      "2                   2       17.500                 0         0.016760   \n",
      "3                   3       19.200                 1         0.000000   \n",
      "4                   4        8.930                 0         0.000000   \n",
      "...               ...          ...               ...              ...   \n",
      "8518              359        6.865                 0         0.056783   \n",
      "8519             1537        8.380                 1         0.046982   \n",
      "8520              354       10.600                 0         0.035186   \n",
      "8521              908        7.210                 1         0.145221   \n",
      "8522              462       14.800                 0         0.044878   \n",
      "\n",
      "      Item_Type  Item_MRP  Outlet_Identifier  Outlet_Establishment_Year  \\\n",
      "0             0  249.8092                  0                          0   \n",
      "1             1   48.2692                  1                          1   \n",
      "2             2  141.6180                  0                          0   \n",
      "3             3  182.0950                  2                          2   \n",
      "4             4   53.8614                  3                          3   \n",
      "...         ...       ...                ...                        ...   \n",
      "8518          6  214.5218                  3                          3   \n",
      "8519          5  108.1570                  5                          5   \n",
      "8520          9   85.1224                  8                          8   \n",
      "8521          6  103.1332                  1                          1   \n",
      "8522          1   75.4670                  7                          7   \n",
      "\n",
      "      Outlet_Location_Type  Outlet_Type  Item_Outlet_Sales  \n",
      "0                        0            0          3735.1380  \n",
      "1                        1            1           443.4228  \n",
      "2                        0            0          2097.2700  \n",
      "3                        1            2           732.3800  \n",
      "4                        1            0           994.7052  \n",
      "...                    ...          ...                ...  \n",
      "8518                     1            0          2778.3834  \n",
      "8519                     2            0           549.2850  \n",
      "8520                     2            0          1193.1136  \n",
      "8521                     1            1          1845.5976  \n",
      "8522                     0            0           765.6700  \n",
      "\n",
      "[7060 rows x 11 columns]\n"
     ]
    }
   ],
   "source": [
    "# Handling the missing values\n",
    "# Use regression to fill missing values in the 'Item_Weight' column.\n",
    "# Train set\n",
    "train_sub = train.drop(['Outlet_Size'], axis = 1)\n",
    "print(train_sub)\n",
    "train_sub_test = train_sub[train_sub[\"Item_Weight\"].isnull()]\n",
    "print(train_sub_test)\n",
    "train_sub = train_sub.dropna()\n",
    "print(train_sub)\n",
    "y_train = train_sub[\"Item_Weight\"]\n",
    "X_train = train_sub.drop(\"Item_Weight\", axis=1)\n",
    "X_test = train_sub_test.drop(\"Item_Weight\", axis=1)\n",
    "lr = LinearRegression()\n",
    "lr.fit(X_train, y_train)\n",
    "y_pred = lr.predict(X_test)\n",
    "train.loc[train.Item_Weight.isnull(), 'Item_Weight'] = y_pred\n"
   ]
  },
  {
   "cell_type": "code",
   "execution_count": 52,
   "metadata": {},
   "outputs": [],
   "source": [
    "# Test set\n",
    "test_sub = test.drop(['Outlet_Size'], axis = 1)\n",
    "test_sub_test = test_sub[test_sub[\"Item_Weight\"].isnull()]\n",
    "test_sub = test_sub.dropna()\n",
    "y_test = test_sub[\"Item_Weight\"]\n",
    "X_test = test_sub.drop(\"Item_Weight\", axis=1)\n",
    "X_test_test = test_sub_test.drop(\"Item_Weight\", axis=1)\n",
    "lr = LinearRegression()\n",
    "lr.fit(X_test, y_test)\n",
    "y_pred = lr.predict(X_test_test)\n",
    "test.loc[test.Item_Weight.isnull(), 'Item_Weight'] = y_pred\n"
   ]
  },
  {
   "cell_type": "code",
   "execution_count": 53,
   "metadata": {},
   "outputs": [],
   "source": [
    "# Filling in 'Outlet_Size' column using mode replacement.\n",
    "train['Outlet_Size'].fillna(train['Outlet_Size'].mode()[0], inplace=True)\n",
    "test['Outlet_Size'].fillna(test['Outlet_Size'].mode()[0], inplace=True)\n",
    "train['Outlet_Size'], _ = pd.factorize(train['Outlet_Size'])\n",
    "test['Outlet_Size'], _ = pd.factorize(test['Outlet_Size'])\n"
   ]
  },
  {
   "cell_type": "code",
   "execution_count": 54,
   "metadata": {},
   "outputs": [],
   "source": [
    "# Preparing training and test sets\n",
    "X = train.drop(['Item_Outlet_Sales'], axis = 1)\n",
    "y = train['Item_Outlet_Sales']\n",
    "X_train, X_test, y_train, y_test = train_test_split(X, y, test_size=0.33, random_state=42)\n"
   ]
  },
  {
   "cell_type": "code",
   "execution_count": 55,
   "metadata": {},
   "outputs": [
    {
     "name": "stdout",
     "output_type": "stream",
     "text": [
      "Mean squared error:  1593302.9660163904\n",
      "Root mean squared error:  1262.2610530379168\n",
      "Mean absolute error:  928.8977207526835\n",
      "Coefficient of determination (R2):  0.4315167309048755\n"
     ]
    }
   ],
   "source": [
    "# Linear Regression\n",
    "lr = LinearRegression()\n",
    "lr.fit(X_train, y_train)\n",
    "predictions = lr.predict(X_test)\n",
    "print('Mean squared error: ', mean_squared_error(y_test, predictions))\n",
    "print('Root mean squared error: ', math.sqrt(mean_squared_error(y_test, predictions)))\n",
    "print('Mean absolute error: ', mean_absolute_error(y_test, predictions))\n",
    "print('Coefficient of determination (R2): ', r2_score(y_test, predictions))\n"
   ]
  },
  {
   "cell_type": "code",
   "execution_count": 56,
   "metadata": {},
   "outputs": [
    {
     "name": "stdout",
     "output_type": "stream",
     "text": [
      "Mean squared error:  1135809.2466410724\n",
      "Root mean squared error:  1065.7435182261595\n",
      "Mean absolute error:  753.1713728419547\n",
      "Coefficient of determination (R2):  0.5947484142244764\n"
     ]
    }
   ],
   "source": [
    "# Gradient Boosting\n",
    "reg = GradientBoostingRegressor(random_state = 42)\n",
    "reg.fit(X_train, y_train)\n",
    "predictions = reg.predict(X_test)\n",
    "print('Mean squared error: ', mean_squared_error(y_test, predictions))\n",
    "print('Root mean squared error: ', math.sqrt(mean_squared_error(y_test, predictions)))\n",
    "print('Mean absolute error: ', mean_absolute_error(y_test, predictions))\n",
    "print('Coefficient of determination (R2): ', r2_score(y_test, predictions))\n"
   ]
  },
  {
   "cell_type": "code",
   "execution_count": 57,
   "metadata": {},
   "outputs": [
    {
     "name": "stdout",
     "output_type": "stream",
     "text": [
      "Mean squared error:  1328878.6941220842\n",
      "Root mean squared error:  1152.7700092048215\n",
      "Mean absolute error:  807.3120965056385\n",
      "Coefficient of determination (R2):  0.5258621113634385\n"
     ]
    }
   ],
   "source": [
    "# Extreme Gradient Boosting\n",
    "xgb = XGBRegressor()\n",
    "xgb.fit(X_train, y_train)\n",
    "predictions = xgb.predict(X_test)\n",
    "print('Mean squared error: ', mean_squared_error(y_test, predictions))\n",
    "print('Root mean squared error: ', math.sqrt(mean_squared_error(y_test, predictions)))\n",
    "print('Mean absolute error: ', mean_absolute_error(y_test, predictions))\n",
    "print('Coefficient of determination (R2): ', r2_score(y_test, predictions))\n"
   ]
  },
  {
   "cell_type": "code",
   "execution_count": 58,
   "metadata": {},
   "outputs": [
    {
     "name": "stdout",
     "output_type": "stream",
     "text": [
      "Mean squared error:  1701378.0748748793\n",
      "Root mean squared error:  1304.3688415762158\n",
      "Mean absolute error:  986.4445918560846\n",
      "Coefficient of determination (R2):  0.3929560224256238\n"
     ]
    }
   ],
   "source": [
    "# Random Forest\n",
    "rf = RandomForestRegressor(max_depth = 2, random_state = 42)\n",
    "rf.fit(X_train, y_train)\n",
    "predictions = rf.predict(X_test)\n",
    "print('Mean squared error: ', mean_squared_error(y_test, predictions))\n",
    "print('Root mean squared error: ', math.sqrt(mean_squared_error(y_test, predictions)))\n",
    "print('Mean absolute error: ', mean_absolute_error(y_test, predictions))\n",
    "print('Coefficient of determination (R2): ', r2_score(y_test, predictions))\n"
   ]
  },
  {
   "cell_type": "code",
   "execution_count": 59,
   "metadata": {},
   "outputs": [
    {
     "name": "stdout",
     "output_type": "stream",
     "text": [
      "Mean squared error:  2433598.059110748\n",
      "Root mean squared error:  1559.9993779199876\n",
      "Mean absolute error:  1082.4324565232846\n",
      "Coefficient of determination (R2):  0.13170325429959928\n"
     ]
    }
   ],
   "source": [
    "# Decision Tree\n",
    "dt = DecisionTreeRegressor(random_state = 42)\n",
    "dt.fit(X_train, y_train)\n",
    "predictions = dt.predict(X_test)\n",
    "print('Mean squared error: ', mean_squared_error(y_test, predictions))\n",
    "print('Root mean squared error: ', math.sqrt(mean_squared_error(y_test, predictions)))\n",
    "print('Mean absolute error: ', mean_absolute_error(y_test, predictions))\n",
    "print('Coefficient of determination (R2): ', r2_score(y_test, predictions))\n"
   ]
  },
  {
   "cell_type": "code",
   "execution_count": 60,
   "metadata": {},
   "outputs": [
    {
     "name": "stdout",
     "output_type": "stream",
     "text": [
      "Mean squared error:  2720662.385723626\n",
      "Root mean squared error:  1649.4430531920846\n",
      "Mean absolute error:  1239.0536801696262\n",
      "Coefficient of determination (R2):  0.02928000504055006\n"
     ]
    }
   ],
   "source": [
    "# Support Vector Machine\n",
    "rng = np.random.RandomState(42)\n",
    "regr = make_pipeline(StandardScaler(), SVR(C=1.0, epsilon=0.2))\n",
    "regr.fit(X_train, y_train)\n",
    "predictions = regr.predict(X_test)\n",
    "print('Mean squared error: ', mean_squared_error(y_test, predictions))\n",
    "print('Root mean squared error: ', math.sqrt(mean_squared_error(y_test, predictions)))\n",
    "print('Mean absolute error: ', mean_absolute_error(y_test, predictions))\n",
    "print('Coefficient of determination (R2): ', r2_score(y_test, predictions))\n"
   ]
  },
  {
   "cell_type": "code",
   "execution_count": 21,
   "metadata": {},
   "outputs": [],
   "source": [
    "# Gradient Boosting Regressor gives the best performance with the\n",
    "# lease RMSE of 1065.74.\n"
   ]
  },
  {
   "cell_type": "code",
   "execution_count": null,
   "metadata": {},
   "outputs": [],
   "source": []
  }
 ],
 "metadata": {
  "kernelspec": {
   "display_name": "Python 3",
   "language": "python",
   "name": "python3"
  },
  "language_info": {
   "codemirror_mode": {
    "name": "ipython",
    "version": 3
   },
   "file_extension": ".py",
   "mimetype": "text/x-python",
   "name": "python",
   "nbconvert_exporter": "python",
   "pygments_lexer": "ipython3",
   "version": "3.7.4"
  }
 },
 "nbformat": 4,
 "nbformat_minor": 2
}
