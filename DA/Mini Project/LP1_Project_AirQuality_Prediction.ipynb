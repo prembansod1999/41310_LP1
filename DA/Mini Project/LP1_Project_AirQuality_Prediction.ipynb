{
  "nbformat": 4,
  "nbformat_minor": 0,
  "metadata": {
    "colab": {
      "name": "LP1_Project_AirQuality_Prediction.ipynb",
      "provenance": [],
      "collapsed_sections": []
    },
    "kernelspec": {
      "name": "python3",
      "display_name": "Python 3"
    }
  },
  "cells": [
    {
      "cell_type": "markdown",
      "metadata": {
        "id": "vq0nP-KRZbto"
      },
      "source": [
        "Importing the libraries"
      ]
    },
    {
      "cell_type": "code",
      "metadata": {
        "id": "SdtyMovIXpgQ",
        "colab": {
          "base_uri": "https://localhost:8080/",
          "height": 168
        },
        "outputId": "7037d588-0f62-4cc6-b478-c09a54ce3400"
      },
      "source": [
        "import numpy as np\n",
        "import pandas as pd\n",
        "import seaborn as sns\n",
        "import matplotlib.pyplot as plt\n",
        "from collections import Counter\n",
        "from sklearn.metrics import confusion_matrix\n",
        "from sklearn.metrics import accuracy_score\n",
        "from sklearn.impute import SimpleImputer\n",
        "from sklearn.preprocessing import LabelEncoder\n",
        "from sklearn.model_selection import train_test_split\n",
        "from sklearn.ensemble import RandomForestClassifier\n",
        "from sklearn.tree import DecisionTreeClassifier\n",
        "from sklearn.svm import SVC\n",
        "from sklearn.metrics import precision_score\n",
        "from sklearn.metrics import recall_score\n",
        "from sklearn.metrics import f1_score\n",
        "from xgboost import XGBClassifier\n",
        "\n",
        "import matplotlib.pyplot as plt\n",
        "import seaborn as sns\n",
        "!pip install chart_studio\n",
        "import chart_studio.plotly as py\n",
        "import plotly.graph_objs as go\n",
        "from plotly.offline import iplot, init_notebook_mode\n",
        "import cufflinks\n",
        "cufflinks.go_offline()\n",
        "cufflinks.set_config_file(world_readable=True, theme='pearl')\n",
        "#"
      ],
      "execution_count": 4,
      "outputs": [
        {
          "output_type": "stream",
          "text": [
            "Requirement already satisfied: chart_studio in /usr/local/lib/python3.6/dist-packages (1.1.0)\n",
            "Requirement already satisfied: six in /usr/local/lib/python3.6/dist-packages (from chart_studio) (1.15.0)\n",
            "Requirement already satisfied: plotly in /usr/local/lib/python3.6/dist-packages (from chart_studio) (4.4.1)\n",
            "Requirement already satisfied: requests in /usr/local/lib/python3.6/dist-packages (from chart_studio) (2.23.0)\n",
            "Requirement already satisfied: retrying>=1.3.3 in /usr/local/lib/python3.6/dist-packages (from chart_studio) (1.3.3)\n",
            "Requirement already satisfied: idna<3,>=2.5 in /usr/local/lib/python3.6/dist-packages (from requests->chart_studio) (2.10)\n",
            "Requirement already satisfied: urllib3!=1.25.0,!=1.25.1,<1.26,>=1.21.1 in /usr/local/lib/python3.6/dist-packages (from requests->chart_studio) (1.24.3)\n",
            "Requirement already satisfied: chardet<4,>=3.0.2 in /usr/local/lib/python3.6/dist-packages (from requests->chart_studio) (3.0.4)\n",
            "Requirement already satisfied: certifi>=2017.4.17 in /usr/local/lib/python3.6/dist-packages (from requests->chart_studio) (2020.11.8)\n"
          ],
          "name": "stdout"
        },
        {
          "output_type": "display_data",
          "data": {
            "text/html": [
              "        <script type=\"text/javascript\">\n",
              "        window.PlotlyConfig = {MathJaxConfig: 'local'};\n",
              "        if (window.MathJax) {MathJax.Hub.Config({SVG: {font: \"STIX-Web\"}});}\n",
              "        if (typeof require !== 'undefined') {\n",
              "        require.undef(\"plotly\");\n",
              "        requirejs.config({\n",
              "            paths: {\n",
              "                'plotly': ['https://cdn.plot.ly/plotly-latest.min']\n",
              "            }\n",
              "        });\n",
              "        require(['plotly'], function(Plotly) {\n",
              "            window._Plotly = Plotly;\n",
              "        });\n",
              "        }\n",
              "        </script>\n",
              "        "
            ]
          },
          "metadata": {
            "tags": []
          }
        }
      ]
    },
    {
      "cell_type": "markdown",
      "metadata": {
        "id": "UqkyY1LAZhLt"
      },
      "source": [
        "Importing the datset"
      ]
    },
    {
      "cell_type": "code",
      "metadata": {
        "colab": {
          "base_uri": "https://localhost:8080/",
          "height": 0
        },
        "id": "BqVGDPqjZqw3",
        "outputId": "1f8fe920-79f0-4b29-d6bb-33559fefdf6b"
      },
      "source": [
        "dataset = pd.read_csv(\"City_day.csv\");\n",
        "\n",
        "dataset.dropna(axis=0, subset = [\"Air_quality\", \"Xylene\", \"AQI\", \"Toluene\",\n",
        "                                  \"Benzene\", \"O3\", \"SO2\", \"CO\", \"NH3\", \"NOx\", \n",
        "                                  \"NO2\", \"PM10\", \"PM2.5\", \"NO\"], how = 'all', inplace= True)\n",
        "dataset.dropna(subset = [\"Air_quality\"], inplace=True)\n",
        "      \n",
        "x = dataset.iloc[:, :-1].values\n",
        "y = dataset.iloc[:,15].values\n",
        "\n",
        "print(dataset.head())"
      ],
      "execution_count": 5,
      "outputs": [
        {
          "output_type": "stream",
          "text": [
            "         City       Date   PM2.5  PM10  ...  Toluene  Xylene    AQI  Air_quality\n",
            "28  Ahmedabad  1/29/2015   83.13   NaN  ...     0.00    3.14  209.0         Poor\n",
            "29  Ahmedabad  1/30/2015   79.84   NaN  ...     0.00    4.81  328.0    Very Poor\n",
            "30  Ahmedabad  1/31/2015   94.52   NaN  ...     0.01    7.67  514.0       Severe\n",
            "31  Ahmedabad   2/1/2015  135.99   NaN  ...     0.04   25.87  782.0       Severe\n",
            "32  Ahmedabad   2/2/2015  178.33   NaN  ...     0.06   35.61  914.0       Severe\n",
            "\n",
            "[5 rows x 16 columns]\n"
          ],
          "name": "stdout"
        }
      ]
    },
    {
      "cell_type": "code",
      "metadata": {
        "colab": {
          "base_uri": "https://localhost:8080/",
          "height": 0
        },
        "id": "uJUkQV1Nb7Bh",
        "outputId": "df61eb7a-bfff-45a6-a1bb-feb5e0ed0c0d"
      },
      "source": [
        "# Check for possible null values in the dataset as missing values potentially screw the ml models\n",
        "dataset.isnull().sum()"
      ],
      "execution_count": 6,
      "outputs": [
        {
          "output_type": "execute_result",
          "data": {
            "text/plain": [
              "City               0\n",
              "Date               0\n",
              "PM2.5            635\n",
              "PM10            6975\n",
              "NO               308\n",
              "NO2              305\n",
              "NOx             1785\n",
              "NH3             6323\n",
              "CO               416\n",
              "SO2              554\n",
              "O3               709\n",
              "Benzene         3270\n",
              "Toluene         5435\n",
              "Xylene         14208\n",
              "AQI                0\n",
              "Air_quality        0\n",
              "dtype: int64"
            ]
          },
          "metadata": {
            "tags": []
          },
          "execution_count": 6
        }
      ]
    },
    {
      "cell_type": "markdown",
      "metadata": {
        "id": "Qobxtn6rZuIG"
      },
      "source": [
        "Filling the missing values"
      ]
    },
    {
      "cell_type": "code",
      "metadata": {
        "id": "gSotDTiLYukq"
      },
      "source": [
        "imputer = SimpleImputer(missing_values = np.nan, strategy = 'median')\n",
        "imputer = imputer.fit(x[:,2:15])\n",
        "x[:,2:15] = imputer.transform(x[:,2:15])\n"
      ],
      "execution_count": 7,
      "outputs": []
    },
    {
      "cell_type": "markdown",
      "metadata": {
        "id": "Vs33FU3ZZ1PS"
      },
      "source": [
        "Encoding the attributes"
      ]
    },
    {
      "cell_type": "code",
      "metadata": {
        "id": "oIGHxW2LZ2Ia"
      },
      "source": [
        "le_X_city = LabelEncoder()\n",
        "le_X_date = LabelEncoder()\n",
        "le_Y = LabelEncoder()\n",
        "y = le_Y.fit_transform(y)\n",
        "\n",
        "x[:,0] = le_X_city.fit_transform(x[:,0])\n",
        "x[:,1] = le_X_date.fit_transform(x[:,1])"
      ],
      "execution_count": 8,
      "outputs": []
    },
    {
      "cell_type": "markdown",
      "metadata": {
        "id": "5-K2-7escrn6"
      },
      "source": [
        "Data Analysis"
      ]
    },
    {
      "cell_type": "code",
      "metadata": {
        "colab": {
          "base_uri": "https://localhost:8080/",
          "height": 0
        },
        "id": "y3b_s3_dg5UG",
        "outputId": "dff6d34c-19a5-4de3-8e39-29bfbbf3e144"
      },
      "source": [
        "dataset.info()"
      ],
      "execution_count": 9,
      "outputs": [
        {
          "output_type": "stream",
          "text": [
            "<class 'pandas.core.frame.DataFrame'>\n",
            "Int64Index: 21937 entries, 28 to 26218\n",
            "Data columns (total 16 columns):\n",
            " #   Column       Non-Null Count  Dtype  \n",
            "---  ------       --------------  -----  \n",
            " 0   City         21937 non-null  object \n",
            " 1   Date         21937 non-null  object \n",
            " 2   PM2.5        21302 non-null  float64\n",
            " 3   PM10         14962 non-null  float64\n",
            " 4   NO           21629 non-null  float64\n",
            " 5   NO2          21632 non-null  float64\n",
            " 6   NOx          20152 non-null  float64\n",
            " 7   NH3          15614 non-null  float64\n",
            " 8   CO           21521 non-null  float64\n",
            " 9   SO2          21383 non-null  float64\n",
            " 10  O3           21228 non-null  float64\n",
            " 11  Benzene      18667 non-null  float64\n",
            " 12  Toluene      16502 non-null  float64\n",
            " 13  Xylene       7729 non-null   float64\n",
            " 14  AQI          21937 non-null  float64\n",
            " 15  Air_quality  21937 non-null  object \n",
            "dtypes: float64(13), object(3)\n",
            "memory usage: 2.8+ MB\n"
          ],
          "name": "stdout"
        }
      ]
    },
    {
      "cell_type": "code",
      "metadata": {
        "colab": {
          "base_uri": "https://localhost:8080/",
          "height": 284
        },
        "id": "D8FG0w1ahBL8",
        "outputId": "7f2d1fbc-c309-4930-82e0-46daacf9afa9"
      },
      "source": [
        "# the describe method gives a quick overview of basic metrics of the dataset\n",
        "dataset.describe()"
      ],
      "execution_count": 10,
      "outputs": [
        {
          "output_type": "execute_result",
          "data": {
            "text/html": [
              "<div>\n",
              "<style scoped>\n",
              "    .dataframe tbody tr th:only-of-type {\n",
              "        vertical-align: middle;\n",
              "    }\n",
              "\n",
              "    .dataframe tbody tr th {\n",
              "        vertical-align: top;\n",
              "    }\n",
              "\n",
              "    .dataframe thead th {\n",
              "        text-align: right;\n",
              "    }\n",
              "</style>\n",
              "<table border=\"1\" class=\"dataframe\">\n",
              "  <thead>\n",
              "    <tr style=\"text-align: right;\">\n",
              "      <th></th>\n",
              "      <th>PM2.5</th>\n",
              "      <th>PM10</th>\n",
              "      <th>NO</th>\n",
              "      <th>NO2</th>\n",
              "      <th>NOx</th>\n",
              "      <th>NH3</th>\n",
              "      <th>CO</th>\n",
              "      <th>SO2</th>\n",
              "      <th>O3</th>\n",
              "      <th>Benzene</th>\n",
              "      <th>Toluene</th>\n",
              "      <th>Xylene</th>\n",
              "      <th>AQI</th>\n",
              "    </tr>\n",
              "  </thead>\n",
              "  <tbody>\n",
              "    <tr>\n",
              "      <th>count</th>\n",
              "      <td>21302.000000</td>\n",
              "      <td>14962.000000</td>\n",
              "      <td>21629.000000</td>\n",
              "      <td>21632.000000</td>\n",
              "      <td>20152.000000</td>\n",
              "      <td>15614.000000</td>\n",
              "      <td>21521.000000</td>\n",
              "      <td>21383.000000</td>\n",
              "      <td>21228.000000</td>\n",
              "      <td>18667.000000</td>\n",
              "      <td>16502.000000</td>\n",
              "      <td>7729.000000</td>\n",
              "      <td>21937.000000</td>\n",
              "    </tr>\n",
              "    <tr>\n",
              "      <th>mean</th>\n",
              "      <td>71.819536</td>\n",
              "      <td>125.867953</td>\n",
              "      <td>18.336627</td>\n",
              "      <td>29.537978</td>\n",
              "      <td>33.470678</td>\n",
              "      <td>25.751801</td>\n",
              "      <td>2.552130</td>\n",
              "      <td>14.801633</td>\n",
              "      <td>34.833688</td>\n",
              "      <td>3.465744</td>\n",
              "      <td>9.910826</td>\n",
              "      <td>3.741817</td>\n",
              "      <td>175.840908</td>\n",
              "    </tr>\n",
              "    <tr>\n",
              "      <th>std</th>\n",
              "      <td>65.402215</td>\n",
              "      <td>93.019867</td>\n",
              "      <td>22.987785</td>\n",
              "      <td>25.341563</td>\n",
              "      <td>31.934069</td>\n",
              "      <td>27.323008</td>\n",
              "      <td>7.508587</td>\n",
              "      <td>18.342644</td>\n",
              "      <td>21.432535</td>\n",
              "      <td>16.922770</td>\n",
              "      <td>22.126794</td>\n",
              "      <td>7.134129</td>\n",
              "      <td>146.143064</td>\n",
              "    </tr>\n",
              "    <tr>\n",
              "      <th>min</th>\n",
              "      <td>0.040000</td>\n",
              "      <td>0.030000</td>\n",
              "      <td>0.030000</td>\n",
              "      <td>0.010000</td>\n",
              "      <td>0.000000</td>\n",
              "      <td>0.010000</td>\n",
              "      <td>0.000000</td>\n",
              "      <td>0.010000</td>\n",
              "      <td>0.100000</td>\n",
              "      <td>0.000000</td>\n",
              "      <td>0.000000</td>\n",
              "      <td>0.000000</td>\n",
              "      <td>13.000000</td>\n",
              "    </tr>\n",
              "    <tr>\n",
              "      <th>25%</th>\n",
              "      <td>31.670000</td>\n",
              "      <td>61.692500</td>\n",
              "      <td>5.950000</td>\n",
              "      <td>12.100000</td>\n",
              "      <td>13.147500</td>\n",
              "      <td>9.630000</td>\n",
              "      <td>0.610000</td>\n",
              "      <td>5.610000</td>\n",
              "      <td>19.437500</td>\n",
              "      <td>0.230000</td>\n",
              "      <td>1.060000</td>\n",
              "      <td>0.300000</td>\n",
              "      <td>85.000000</td>\n",
              "    </tr>\n",
              "    <tr>\n",
              "      <th>50%</th>\n",
              "      <td>52.430000</td>\n",
              "      <td>101.555000</td>\n",
              "      <td>10.170000</td>\n",
              "      <td>22.360000</td>\n",
              "      <td>24.310000</td>\n",
              "      <td>18.420000</td>\n",
              "      <td>0.970000</td>\n",
              "      <td>9.170000</td>\n",
              "      <td>31.330000</td>\n",
              "      <td>1.180000</td>\n",
              "      <td>3.370000</td>\n",
              "      <td>1.270000</td>\n",
              "      <td>124.000000</td>\n",
              "    </tr>\n",
              "    <tr>\n",
              "      <th>75%</th>\n",
              "      <td>85.987500</td>\n",
              "      <td>158.837500</td>\n",
              "      <td>20.910000</td>\n",
              "      <td>38.702500</td>\n",
              "      <td>42.090000</td>\n",
              "      <td>33.130000</td>\n",
              "      <td>1.560000</td>\n",
              "      <td>15.500000</td>\n",
              "      <td>45.862500</td>\n",
              "      <td>3.100000</td>\n",
              "      <td>10.047500</td>\n",
              "      <td>4.350000</td>\n",
              "      <td>226.000000</td>\n",
              "    </tr>\n",
              "    <tr>\n",
              "      <th>max</th>\n",
              "      <td>914.940000</td>\n",
              "      <td>917.080000</td>\n",
              "      <td>287.140000</td>\n",
              "      <td>362.210000</td>\n",
              "      <td>293.100000</td>\n",
              "      <td>352.890000</td>\n",
              "      <td>175.810000</td>\n",
              "      <td>186.080000</td>\n",
              "      <td>257.730000</td>\n",
              "      <td>455.030000</td>\n",
              "      <td>454.850000</td>\n",
              "      <td>170.370000</td>\n",
              "      <td>2049.000000</td>\n",
              "    </tr>\n",
              "  </tbody>\n",
              "</table>\n",
              "</div>"
            ],
            "text/plain": [
              "              PM2.5          PM10  ...       Xylene           AQI\n",
              "count  21302.000000  14962.000000  ...  7729.000000  21937.000000\n",
              "mean      71.819536    125.867953  ...     3.741817    175.840908\n",
              "std       65.402215     93.019867  ...     7.134129    146.143064\n",
              "min        0.040000      0.030000  ...     0.000000     13.000000\n",
              "25%       31.670000     61.692500  ...     0.300000     85.000000\n",
              "50%       52.430000    101.555000  ...     1.270000    124.000000\n",
              "75%       85.987500    158.837500  ...     4.350000    226.000000\n",
              "max      914.940000    917.080000  ...   170.370000   2049.000000\n",
              "\n",
              "[8 rows x 13 columns]"
            ]
          },
          "metadata": {
            "tags": []
          },
          "execution_count": 10
        }
      ]
    },
    {
      "cell_type": "code",
      "metadata": {
        "id": "lFkqjuJDcrNK",
        "colab": {
          "base_uri": "https://localhost:8080/",
          "height": 282
        },
        "outputId": "0e1bd601-d5ec-450f-ae62-9313e6736db3"
      },
      "source": [
        "print(dataset.boxplot())"
      ],
      "execution_count": 11,
      "outputs": [
        {
          "output_type": "stream",
          "text": [
            "AxesSubplot(0.125,0.125;0.775x0.755)\n"
          ],
          "name": "stdout"
        },
        {
          "output_type": "display_data",
          "data": {
            "image/png": "[encoded data removed]",
            "text/plain": [
              "<Figure size 432x288 with 1 Axes>"
            ]
          },
          "metadata": {
            "tags": [],
            "needs_background": "light"
          }
        }
      ]
    },
    {
      "cell_type": "markdown",
      "metadata": {
        "id": "miGm-aZXhx7X"
      },
      "source": [
        "Pre Corona [2016 to 2020]\n",
        "\n",
        "Dividing the data set into two part namely Vehicular Pollution content (PM2.5, PM10, NO2, NH3, CO,) and Industrial Pollution content (CO, SO2, O3, Benzene, Toluene, Xylene) and find how these contents correlated with AQI (air quality index)"
      ]
    },
    {
      "cell_type": "markdown",
      "metadata": {
        "id": "QO1Rt9JqZVGE"
      },
      "source": [
        "Splitting the dataset"
      ]
    },
    {
      "cell_type": "code",
      "metadata": {
        "id": "QKMNdy30ZTdG"
      },
      "source": [
        "x_train, x_test, y_train, y_test = train_test_split(x, y, test_size = 0.3, random_state = 0)"
      ],
      "execution_count": 12,
      "outputs": []
    },
    {
      "cell_type": "code",
      "metadata": {
        "id": "gicX8_OgmlTc",
        "colab": {
          "base_uri": "https://localhost:8080/",
          "height": 352
        },
        "outputId": "b0e521d0-bcd5-46e3-ee6d-ce32efd1d873"
      },
      "source": [
        "ax = sns.countplot(y)"
      ],
      "execution_count": 13,
      "outputs": [
        {
          "output_type": "stream",
          "text": [
            "/usr/local/lib/python3.6/dist-packages/seaborn/_decorators.py:43: FutureWarning:\n",
            "\n",
            "Pass the following variable as a keyword arg: x. From version 0.12, the only valid positional argument will be `data`, and passing other arguments without an explicit keyword will result in an error or misinterpretation.\n",
            "\n"
          ],
          "name": "stderr"
        },
        {
          "output_type": "display_data",
          "data": {
            "image/png": "[encoded data removed]",
            "text/plain": [
              "<Figure size 432x288 with 1 Axes>"
            ]
          },
          "metadata": {
            "tags": [],
            "needs_background": "light"
          }
        }
      ]
    },
    {
      "cell_type": "code",
      "metadata": {
        "colab": {
          "base_uri": "https://localhost:8080/",
          "height": 352
        },
        "id": "08TKHMnUc94a",
        "outputId": "dc9a896d-81e8-4a73-ccdb-6fc9eafb33e8"
      },
      "source": [
        "#Before OverSampling\n",
        "ax = sns.countplot(y_train)"
      ],
      "execution_count": 14,
      "outputs": [
        {
          "output_type": "stream",
          "text": [
            "/usr/local/lib/python3.6/dist-packages/seaborn/_decorators.py:43: FutureWarning:\n",
            "\n",
            "Pass the following variable as a keyword arg: x. From version 0.12, the only valid positional argument will be `data`, and passing other arguments without an explicit keyword will result in an error or misinterpretation.\n",
            "\n"
          ],
          "name": "stderr"
        },
        {
          "output_type": "display_data",
          "data": {
            "image/png": "[encoded data removed]",
            "text/plain": [
              "<Figure size 432x288 with 1 Axes>"
            ]
          },
          "metadata": {
            "tags": [],
            "needs_background": "light"
          }
        }
      ]
    },
    {
      "cell_type": "markdown",
      "metadata": {
        "id": "D033GFUQdQjm"
      },
      "source": [
        "OverSampling"
      ]
    },
    {
      "cell_type": "code",
      "metadata": {
        "colab": {
          "base_uri": "https://localhost:8080/",
          "height": 0
        },
        "id": "XiKxj0WodS5z",
        "outputId": "b5909d6d-4deb-4acd-c434-77730022da50"
      },
      "source": [
        "print('Classes and number of values in trainset',Counter(y_train))\n",
        "from imblearn.over_sampling import SMOTE\n",
        "oversample = SMOTE()\n",
        "x_train, y_train = oversample.fit_resample(x_train,y_train)\n",
        "print('Classes and number of values in trainset after SMOTE:',Counter(y_train))\n",
        "med=np.median(x_train,axis=0)"
      ],
      "execution_count": 15,
      "outputs": [
        {
          "output_type": "stream",
          "text": [
            "/usr/local/lib/python3.6/dist-packages/sklearn/externals/six.py:31: FutureWarning:\n",
            "\n",
            "The module is deprecated in version 0.21 and will be removed in version 0.23 since we've dropped support for Python 2.7. Please rely on the official version of six (https://pypi.org/project/six/).\n",
            "\n",
            "/usr/local/lib/python3.6/dist-packages/sklearn/utils/deprecation.py:144: FutureWarning:\n",
            "\n",
            "The sklearn.neighbors.base module is  deprecated in version 0.22 and will be removed in version 0.24. The corresponding classes / functions should instead be imported from sklearn.neighbors. Anything that cannot be imported from sklearn.neighbors is now part of the private API.\n",
            "\n"
          ],
          "name": "stderr"
        },
        {
          "output_type": "stream",
          "text": [
            "Classes and number of values in trainset Counter({1: 5450, 3: 4808, 2: 1867, 5: 1618, 4: 951, 0: 661})\n"
          ],
          "name": "stdout"
        },
        {
          "output_type": "stream",
          "text": [
            "/usr/local/lib/python3.6/dist-packages/sklearn/utils/deprecation.py:87: FutureWarning:\n",
            "\n",
            "Function safe_indexing is deprecated; safe_indexing is deprecated in version 0.22 and will be removed in version 0.24.\n",
            "\n",
            "/usr/local/lib/python3.6/dist-packages/sklearn/utils/deprecation.py:87: FutureWarning:\n",
            "\n",
            "Function safe_indexing is deprecated; safe_indexing is deprecated in version 0.22 and will be removed in version 0.24.\n",
            "\n",
            "/usr/local/lib/python3.6/dist-packages/sklearn/utils/deprecation.py:87: FutureWarning:\n",
            "\n",
            "Function safe_indexing is deprecated; safe_indexing is deprecated in version 0.22 and will be removed in version 0.24.\n",
            "\n",
            "/usr/local/lib/python3.6/dist-packages/sklearn/utils/deprecation.py:87: FutureWarning:\n",
            "\n",
            "Function safe_indexing is deprecated; safe_indexing is deprecated in version 0.22 and will be removed in version 0.24.\n",
            "\n"
          ],
          "name": "stderr"
        },
        {
          "output_type": "stream",
          "text": [
            "Classes and number of values in trainset after SMOTE: Counter({3: 5450, 1: 5450, 2: 5450, 5: 5450, 4: 5450, 0: 5450})\n"
          ],
          "name": "stdout"
        },
        {
          "output_type": "stream",
          "text": [
            "/usr/local/lib/python3.6/dist-packages/sklearn/utils/deprecation.py:87: FutureWarning:\n",
            "\n",
            "Function safe_indexing is deprecated; safe_indexing is deprecated in version 0.22 and will be removed in version 0.24.\n",
            "\n"
          ],
          "name": "stderr"
        }
      ]
    },
    {
      "cell_type": "code",
      "metadata": {
        "colab": {
          "base_uri": "https://localhost:8080/",
          "height": 369
        },
        "id": "wSTE_oRHdbGc",
        "outputId": "6c68ff6c-536d-48b8-b094-f6072f64f30e"
      },
      "source": [
        "#After Oversampling\n",
        "sns.countplot(y_train)"
      ],
      "execution_count": 16,
      "outputs": [
        {
          "output_type": "stream",
          "text": [
            "/usr/local/lib/python3.6/dist-packages/seaborn/_decorators.py:43: FutureWarning:\n",
            "\n",
            "Pass the following variable as a keyword arg: x. From version 0.12, the only valid positional argument will be `data`, and passing other arguments without an explicit keyword will result in an error or misinterpretation.\n",
            "\n"
          ],
          "name": "stderr"
        },
        {
          "output_type": "execute_result",
          "data": {
            "text/plain": [
              "<matplotlib.axes._subplots.AxesSubplot at 0x7fc4ad03f400>"
            ]
          },
          "metadata": {
            "tags": []
          },
          "execution_count": 16
        },
        {
          "output_type": "display_data",
          "data": {
            "image/png": "[encoded data removed]",
            "text/plain": [
              "<Figure size 432x288 with 1 Axes>"
            ]
          },
          "metadata": {
            "tags": [],
            "needs_background": "light"
          }
        }
      ]
    },
    {
      "cell_type": "code",
      "metadata": {
        "id": "XW9ZOYRYsXQl"
      },
      "source": [
        "classlabels=['Good','Moderate','Poor','Satisfactory','Severe','Very Poor']\n",
        "import itertools\n",
        "def plot_confusion_matrix(cm,title, classes=classlabels,\n",
        "                          cmap=plt.cm.Blues):\n",
        "\n",
        "    plt.figure(figsize=(5,4.8))\n",
        "    plt.imshow(cm, interpolation='nearest', cmap=cmap)\n",
        "    plt.title(title)\n",
        "    plt.colorbar()\n",
        "    tick_marks = np.arange(len(classes))\n",
        "    plt.xticks(tick_marks, classes, rotation=45)\n",
        "    plt.yticks(tick_marks, classes)\n",
        "\n",
        "#     print(cm)\n",
        "\n",
        "    thresh = cm.max() / 2\n",
        "    for i, j in itertools.product(range(cm.shape[0]), range(cm.shape[1])):\n",
        "        plt.text(j, i, \"{:,}\".format(cm[i, j]),\n",
        "                     horizontalalignment=\"center\",\n",
        "                     color=\"white\" if cm[i, j] > thresh else \"black\")\n",
        "\n",
        "    plt.tight_layout()\n",
        "    plt.ylabel('True label')\n",
        "    plt.xlabel('Predicted label')"
      ],
      "execution_count": 17,
      "outputs": []
    },
    {
      "cell_type": "code",
      "metadata": {
        "id": "8Hr_ORg4nQih",
        "colab": {
          "base_uri": "https://localhost:8080/",
          "height": 419
        },
        "outputId": "50d5c79f-53d9-4a51-ed74-0159c68aa754"
      },
      "source": [
        "from sklearn.ensemble import RandomForestClassifier\n",
        "clf=RandomForestClassifier(n_estimators=100,random_state = 0)\n",
        "clf.fit(x_train,y_train)\n",
        "y_pred=clf.predict(x_test)\n",
        "\n",
        "from sklearn.metrics import confusion_matrix\n",
        "cm = confusion_matrix(y_test, y_pred)\n",
        "plot_confusion_matrix(cm,title=\"Random Forest\")\n",
        "\n",
        "a = accuracy_score(y_test,y_pred)\n",
        "precision = precision_score(y_test,y_pred, average='micro')\n",
        "recall = recall_score(y_test,y_pred, average='micro')        \n",
        "f1 = f1_score(y_test,y_pred, average='micro')\n",
        "print(\"The accuracy of this model is : \", a*100)\n",
        "print(\"Precision : \",precision*100)\n",
        "print(\"Recall : \",recall*100)\n",
        "print(\"F1 Score : \",f1*100)"
      ],
      "execution_count": 18,
      "outputs": [
        {
          "output_type": "stream",
          "text": [
            "The accuracy of this model is :  99.87845639623215\n",
            "Precision :  99.87845639623215\n",
            "Recall :  99.87845639623215\n",
            "F1 Score :  99.87845639623215\n"
          ],
          "name": "stdout"
        },
        {
          "output_type": "display_data",
          "data": {
            "image/png": "[encoded data removed]",
            "text/plain": [
              "<Figure size 360x345.6 with 2 Axes>"
            ]
          },
          "metadata": {
            "tags": [],
            "needs_background": "light"
          }
        }
      ]
    },
    {
      "cell_type": "code",
      "metadata": {
        "colab": {
          "base_uri": "https://localhost:8080/",
          "height": 419
        },
        "id": "Kmzz3G4qrSzW",
        "outputId": "0c49930c-a18b-4971-9088-b8eff068202f"
      },
      "source": [
        "from sklearn.tree import DecisionTreeClassifier\n",
        "dt = DecisionTreeClassifier(random_state = 0)\n",
        "dt.fit(x_train,y_train)\n",
        "y_pred = dt.predict(x_test)\n",
        "\n",
        "from sklearn.metrics import confusion_matrix\n",
        "cm = confusion_matrix(y_test, y_pred)\n",
        "plot_confusion_matrix(cm,title=\"Decision Tree\")\n",
        "\n",
        "a = accuracy_score(y_test,y_pred)\n",
        "precision = precision_score(y_test,y_pred, average='micro')\n",
        "recall = recall_score(y_test,y_pred, average='micro')        \n",
        "f1 = f1_score(y_test,y_pred, average='micro')\n",
        "print(\"The accuracy of this model is : \", a*100)\n",
        "print(\"Precision : \",precision*100)\n",
        "print(\"Recall : \",recall*100)\n",
        "print(\"F1 Score : \",f1*100)"
      ],
      "execution_count": 19,
      "outputs": [
        {
          "output_type": "stream",
          "text": [
            "The accuracy of this model is :  100.0\n",
            "Precision :  100.0\n",
            "Recall :  100.0\n",
            "F1 Score :  100.0\n"
          ],
          "name": "stdout"
        },
        {
          "output_type": "display_data",
          "data": {
            "image/png": "[encoded data removed]",
            "text/plain": [
              "<Figure size 360x345.6 with 2 Axes>"
            ]
          },
          "metadata": {
            "tags": [],
            "needs_background": "light"
          }
        }
      ]
    },
    {
      "cell_type": "code",
      "metadata": {
        "colab": {
          "base_uri": "https://localhost:8080/",
          "height": 419
        },
        "id": "30-HJWVcrcti",
        "outputId": "bb69cd11-068a-4f12-fc96-e82dcae7f788"
      },
      "source": [
        "from xgboost import XGBClassifier\n",
        "cls = XGBClassifier()\n",
        "cls.fit(x_train,y_train)\n",
        "y_pred = cls.predict(x_test)\n",
        "\n",
        "from sklearn.metrics import confusion_matrix\n",
        "cm = confusion_matrix(y_test, y_pred)\n",
        "plot_confusion_matrix(cm,title=\"XGB\")\n",
        "\n",
        "a = accuracy_score(y_test,y_pred)\n",
        "precision = precision_score(y_test,y_pred, average='micro')\n",
        "recall = recall_score(y_test,y_pred, average='micro')        \n",
        "f1 = f1_score(y_test,y_pred, average='micro')\n",
        "print(\"The accuracy of this model is : \", a*100)\n",
        "print(\"Precision : \",precision*100)\n",
        "print(\"Recall : \",recall*100)\n",
        "print(\"F1 Score : \",f1*100)"
      ],
      "execution_count": 20,
      "outputs": [
        {
          "output_type": "stream",
          "text": [
            "The accuracy of this model is :  100.0\n",
            "Precision :  100.0\n",
            "Recall :  100.0\n",
            "F1 Score :  100.0\n"
          ],
          "name": "stdout"
        },
        {
          "output_type": "display_data",
          "data": {
            "image/png": "[encoded data removed]",
            "text/plain": [
              "<Figure size 360x345.6 with 2 Axes>"
            ]
          },
          "metadata": {
            "tags": [],
            "needs_background": "light"
          }
        }
      ]
    },
    {
      "cell_type": "code",
      "metadata": {
        "id": "RnhKXzreukj1",
        "colab": {
          "base_uri": "https://localhost:8080/",
          "height": 0
        },
        "outputId": "a55a8725-e01d-4db7-d516-aec4e0f84147"
      },
      "source": [
        "res = []\n",
        "city = le_X_city.fit_transform([\"Pune\"])\n",
        "date = le_X_date.fit_transform([\"12/12/2020\"])\n",
        "ls = [city[0] ,date[0], 83.13, 101.555, 6.93, 28.71, 33.72, 18.42, 6.93, 49.52, 59.76, 0.02, 0.0, 3.14, 209.0]\n",
        "lst = []\n",
        "lst.append(ls)\n",
        "temp = le_Y.inverse_transform(clf.predict(lst))\n",
        "temp = temp.tolist()\n",
        "res.append(temp[0])\n",
        "        \n",
        "temp = le_Y.inverse_transform(dt.predict(lst))\n",
        "temp = temp.tolist()\n",
        "res.append(temp[0])\n",
        "              \n",
        "temp = le_Y.inverse_transform(cls.predict(lst))\n",
        "temp = temp.tolist()\n",
        "res.append(temp[0]) \n",
        "        \n",
        "print(\"Random Forest : \",res[0])\n",
        "print(\"Decision Tree : \",res[1])\n",
        "print(\"XGB : \",res[2])        "
      ],
      "execution_count": 25,
      "outputs": [
        {
          "output_type": "stream",
          "text": [
            "Random Forest :  Poor\n",
            "Decision Tree :  Poor\n",
            "XGB :  Poor\n"
          ],
          "name": "stdout"
        }
      ]
    },
    {
      "cell_type": "code",
      "metadata": {
        "id": "5chzcsCX9w1i"
      },
      "source": [
        ""
      ],
      "execution_count": null,
      "outputs": []
    }
  ]
}